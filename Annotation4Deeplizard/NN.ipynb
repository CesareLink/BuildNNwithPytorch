{
 "cells": [
  {
   "cell_type": "code",
   "execution_count": 2,
   "metadata": {},
   "outputs": [],
   "source": [
    "import torch.nn as nn\n",
    "\n",
    "class Network(nn.Module):\n",
    "    def __init__(self):\n",
    "        super(Network,self).__init__()\n",
    "        self.conv1 = nn.Conv2d(in_channels=1, out_channels=6, kernel_size=5)\n",
    "        self.conv2 = nn.Conv2d(in_channels=6, out_channels=12, kernel_size=5)\n",
    "        \n",
    "        self.fc1 = nn.Linear(in_features=12*4*4, out_features=120) #\n",
    "        self.fc2 = nn.Linear(in_features=120, out_features=60)\n",
    "        self.out = nn.Linear(in_features=60, out_features=10)\n",
    "    \n",
    "    def forward(self, t):\n",
    "        #t = self.layer(t)\n",
    "        return t\n",
    "    \n",
    "    def __repr__(self):\n",
    "        return 'Self_defined Net'"
   ]
  },
  {
   "cell_type": "code",
   "execution_count": 3,
   "metadata": {},
   "outputs": [
    {
     "data": {
      "text/plain": [
       "Network(\n",
       "  (conv1): Conv2d(1, 6, kernel_size=(5, 5), stride=(1, 1))\n",
       "  (conv2): Conv2d(6, 12, kernel_size=(5, 5), stride=(1, 1))\n",
       "  (fc1): Linear(in_features=192, out_features=120, bias=True)\n",
       "  (fc2): Linear(in_features=120, out_features=60, bias=True)\n",
       "  (out): Linear(in_features=60, out_features=10, bias=True)\n",
       ")"
      ]
     },
     "execution_count": 3,
     "metadata": {},
     "output_type": "execute_result"
    }
   ],
   "source": [
    "network = Network()\n",
    "network"
   ]
  },
  {
   "cell_type": "code",
   "execution_count": 6,
   "metadata": {},
   "outputs": [
    {
     "name": "stdout",
     "output_type": "stream",
     "text": [
      "Network(\n",
      "  (conv1): Conv2d(1, 6, kernel_size=(5, 5), stride=(1, 1))\n",
      "  (conv2): Conv2d(6, 12, kernel_size=(5, 5), stride=(1, 1))\n",
      "  (fc1): Linear(in_features=192, out_features=120, bias=True)\n",
      "  (fc2): Linear(in_features=120, out_features=60, bias=True)\n",
      "  (out): Linear(in_features=60, out_features=10, bias=True)\n",
      ")\n"
     ]
    }
   ],
   "source": [
    "print(network)"
   ]
  },
  {
   "cell_type": "code",
   "execution_count": 8,
   "metadata": {},
   "outputs": [
    {
     "data": {
      "text/plain": [
       "Parameter containing:\n",
       "tensor([[[[-0.0968, -0.0276,  0.0140, -0.1945, -0.0282],\n",
       "          [-0.0695,  0.1996, -0.0541,  0.0345, -0.1800],\n",
       "          [-0.0306, -0.0358,  0.1870, -0.0755, -0.1772],\n",
       "          [ 0.1571, -0.1092, -0.0665,  0.1736, -0.1231],\n",
       "          [-0.0571, -0.0835, -0.0193, -0.1763,  0.0796]]],\n",
       "\n",
       "\n",
       "        [[[ 0.0720, -0.0834, -0.0050,  0.1000, -0.1020],\n",
       "          [-0.0572,  0.1722,  0.1553,  0.0385,  0.0528],\n",
       "          [ 0.1254, -0.0175,  0.0252,  0.1262,  0.1897],\n",
       "          [ 0.1236, -0.1534,  0.1848, -0.1534,  0.1943],\n",
       "          [ 0.0217,  0.0265, -0.0334,  0.1719,  0.0742]]],\n",
       "\n",
       "\n",
       "        [[[-0.0616, -0.1121,  0.1283,  0.0365, -0.0044],\n",
       "          [ 0.1397, -0.0226, -0.0331,  0.1531, -0.1349],\n",
       "          [-0.0103,  0.0806,  0.0261, -0.1605,  0.0258],\n",
       "          [ 0.1014, -0.1967, -0.0637, -0.1501,  0.1137],\n",
       "          [-0.0661, -0.1296,  0.0959,  0.1667,  0.1184]]],\n",
       "\n",
       "\n",
       "        [[[-0.0914,  0.1720,  0.1396, -0.1750,  0.1420],\n",
       "          [-0.0900, -0.1244,  0.0489, -0.0658,  0.1806],\n",
       "          [ 0.0467, -0.0060,  0.1136,  0.1561,  0.1319],\n",
       "          [-0.0587, -0.0040,  0.1328, -0.0620, -0.0100],\n",
       "          [-0.0390, -0.0599,  0.0475,  0.0012, -0.1182]]],\n",
       "\n",
       "\n",
       "        [[[-0.1025,  0.1530,  0.0784,  0.1761, -0.1863],\n",
       "          [-0.1993, -0.1277,  0.0637, -0.0696,  0.1068],\n",
       "          [-0.0274, -0.0853, -0.0357, -0.0334, -0.0589],\n",
       "          [-0.0549,  0.0868, -0.1331,  0.1285,  0.0194],\n",
       "          [-0.0931, -0.0783,  0.0128, -0.0703,  0.0476]]],\n",
       "\n",
       "\n",
       "        [[[ 0.1857,  0.0587,  0.1800, -0.0081,  0.1812],\n",
       "          [ 0.0551,  0.1367,  0.0909,  0.1829, -0.0856],\n",
       "          [ 0.0872,  0.1697, -0.0974, -0.1903, -0.0048],\n",
       "          [-0.1441, -0.0683, -0.0480, -0.1147,  0.1765],\n",
       "          [-0.0132,  0.1544, -0.1184,  0.1511, -0.1166]]]], requires_grad=True)"
      ]
     },
     "execution_count": 8,
     "metadata": {},
     "output_type": "execute_result"
    }
   ],
   "source": [
    "network.conv1.weight"
   ]
  },
  {
   "cell_type": "code",
   "execution_count": 11,
   "metadata": {},
   "outputs": [],
   "source": [
    "import torch\n",
    "in_features = torch.tensor([1,2,3,4],dtype=torch.float32)"
   ]
  },
  {
   "cell_type": "code",
   "execution_count": 13,
   "metadata": {},
   "outputs": [],
   "source": [
    "weight_matrix = torch.tensor([\n",
    "    [1,2,3,4],\n",
    "    [2,3,4,5],\n",
    "    [3,4,5,6]\n",
    "], dtype=torch.float32)"
   ]
  },
  {
   "cell_type": "code",
   "execution_count": 16,
   "metadata": {},
   "outputs": [
    {
     "data": {
      "text/plain": [
       "tensor([30., 40., 50.])"
      ]
     },
     "execution_count": 16,
     "metadata": {},
     "output_type": "execute_result"
    }
   ],
   "source": [
    "weight_matrix.matmul(in_features)"
   ]
  },
  {
   "cell_type": "code",
   "execution_count": 27,
   "metadata": {},
   "outputs": [],
   "source": [
    "fc = nn.Linear(in_features=4, out_features=3, bias=False)"
   ]
  },
  {
   "cell_type": "code",
   "execution_count": 28,
   "metadata": {},
   "outputs": [],
   "source": [
    "fc.weight = nn.Parameter(weight_matrix)"
   ]
  },
  {
   "cell_type": "code",
   "execution_count": 30,
   "metadata": {},
   "outputs": [
    {
     "data": {
      "text/plain": [
       "tensor([30., 40., 50.], grad_fn=<SqueezeBackward3>)"
      ]
     },
     "execution_count": 30,
     "metadata": {},
     "output_type": "execute_result"
    }
   ],
   "source": [
    "fc(in_features)"
   ]
  },
  {
   "cell_type": "code",
   "execution_count": 46,
   "metadata": {},
   "outputs": [
    {
     "data": {
      "text/plain": [
       "tensor([[1, 1, 1, 1],\n",
       "        [2, 2, 2, 2],\n",
       "        [3, 3, 3, 3]], dtype=torch.int32)"
      ]
     },
     "execution_count": 46,
     "metadata": {},
     "output_type": "execute_result"
    }
   ],
   "source": [
    "import numpy as np\n",
    "a = np.array([1,2,3,4])\n",
    "b = np.array([[1,1,1,1],[2,2,2,2],[3,3,3,3]])\n",
    "a = torch.from_numpy(a)\n",
    "b = torch.from_numpy(b)\n",
    "b"
   ]
  },
  {
   "cell_type": "code",
   "execution_count": 47,
   "metadata": {},
   "outputs": [
    {
     "data": {
      "text/plain": [
       "tensor([1, 2, 3, 4], dtype=torch.int32)"
      ]
     },
     "execution_count": 47,
     "metadata": {},
     "output_type": "execute_result"
    }
   ],
   "source": [
    "a"
   ]
  },
  {
   "cell_type": "code",
   "execution_count": 51,
   "metadata": {},
   "outputs": [
    {
     "data": {
      "text/plain": [
       "tensor([10, 20, 30], dtype=torch.int32)"
      ]
     },
     "execution_count": 51,
     "metadata": {},
     "output_type": "execute_result"
    }
   ],
   "source": [
    "output = a.matmul(b.T)\n",
    "output"
   ]
  },
  {
   "cell_type": "code",
   "execution_count": 52,
   "metadata": {},
   "outputs": [
    {
     "data": {
      "text/plain": [
       "tensor([10, 20, 30], dtype=torch.int32)"
      ]
     },
     "execution_count": 52,
     "metadata": {},
     "output_type": "execute_result"
    }
   ],
   "source": [
    "output2 = b.matmul(a)\n",
    "output2"
   ]
  }
 ],
 "metadata": {
  "kernelspec": {
   "display_name": "Python 3",
   "language": "python",
   "name": "python3"
  },
  "language_info": {
   "codemirror_mode": {
    "name": "ipython",
    "version": 3
   },
   "file_extension": ".py",
   "mimetype": "text/x-python",
   "name": "python",
   "nbconvert_exporter": "python",
   "pygments_lexer": "ipython3",
   "version": "3.7.0"
  }
 },
 "nbformat": 4,
 "nbformat_minor": 2
}

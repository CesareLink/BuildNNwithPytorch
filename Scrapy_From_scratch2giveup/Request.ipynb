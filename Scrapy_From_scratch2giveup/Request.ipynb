{
 "cells": [
  {
   "cell_type": "code",
   "execution_count": 2,
   "metadata": {},
   "outputs": [
    {
     "name": "stdout",
     "output_type": "stream",
     "text": [
      "http://www.baidu.com/s?wd=%E8%8E%AB%E7%83%A6Python\n"
     ]
    }
   ],
   "source": [
    "import requests\n",
    "import webbrowser\n",
    "param = {'wd':'莫烦Python'}\n",
    "r = requests.get('http://www.baidu.com/s',params=param)\n",
    "print(r.url)"
   ]
  },
  {
   "cell_type": "code",
   "execution_count": 4,
   "metadata": {},
   "outputs": [
    {
     "name": "stdout",
     "output_type": "stream",
     "text": [
      "Hello there, Urien Li!\n"
     ]
    }
   ],
   "source": [
    "data = {'firstname':'Urien','lastname':'Li'}\n",
    "r = requests.post('http://pythonscraping.com/pages/files/processing.php',data=data)\n",
    "print(r.text)"
   ]
  },
  {
   "cell_type": "code",
   "execution_count": 7,
   "metadata": {},
   "outputs": [
    {
     "name": "stdout",
     "output_type": "stream",
     "text": [
      "<!DOCTYPE html PUBLIC \"-//W3C//DTD XHTML+RDFa 1.0//EN\"\n",
      "  \"http://www.w3.org/MarkUp/DTD/xhtml-rdfa-1.dtd\">\n",
      "<html xmlns=\"http://www.w3.org/1999/xhtml\" xml:lang=\"en\" version=\"XHTML+RDFa 1.0\" dir=\"ltr\"\n",
      "  xmlns:content=\"http://purl.org/rss/1.0/modules/content/\"\n",
      "  xmlns:dc=\"http://purl.org/dc/terms/\"\n",
      "  xmlns:foaf=\"http://xmlns.com/foaf/0.1/\"\n",
      "  xmlns:og=\"http://ogp.me/ns#\"\n",
      "  xmlns:rdfs=\"http://www.w3.org/2000/01/rdf-schema#\"\n",
      "  xmlns:sioc=\"http://rdfs.org/sioc/ns#\"\n",
      "  xmlns:sioct=\"http://rdfs.org/sioc/types#\"\n",
      "  xmlns:skos=\"http://www.w3.org/2004/02/skos/core#\"\n",
      "  xmlns:xsd=\"http://www.w3.org/2001/XMLSchema#\">\n",
      "\n",
      "<head profile=\"http://www.w3.org/1999/xhtml/vocab\">\n",
      "  <meta charset=\"utf-8\" />\n",
      "<link rel=\"shortcut icon\" href=\"http://pythonscraping.com/misc/favicon.ico\" type=\"image/vnd.microsoft.icon\" />\n",
      "<meta name=\"viewport\" content=\"width=device-width, initial-scale=1\" />\n",
      "<meta name=\"MobileOptimized\" content=\"width\" />\n",
      "<meta name=\"Generator\" content=\"Drupal 7 (http://drupal.org)\" />\n",
      "<meta name=\"HandheldFriendly\" content=\"true\" />\n",
      "  <title>Page not found | Web Scraping with Python</title>\n",
      "  <style type=\"text/css\" media=\"all\">\n",
      "@import url(\"http://pythonscraping.com/modules/system/system.base.css?q4na2g\");\n",
      "@import url(\"http://pythonscraping.com/modules/system/system.menus.css?q4na2g\");\n",
      "@import url(\"http://pythonscraping.com/modules/system/system.messages.css?q4na2g\");\n",
      "@import url(\"http://pythonscraping.com/modules/system/system.theme.css?q4na2g\");\n",
      "</style>\n",
      "<style type=\"text/css\" media=\"all\">\n",
      "@import url(\"http://pythonscraping.com/modules/comment/comment.css?q4na2g\");\n",
      "@import url(\"http://pythonscraping.com/modules/field/theme/field.css?q4na2g\");\n",
      "@import url(\"http://pythonscraping.com/modules/node/node.css?q4na2g\");\n",
      "@import url(\"http://pythonscraping.com/modules/search/search.css?q4na2g\");\n",
      "@import url(\"http://pythonscraping.com/modules/user/user.css?q4na2g\");\n",
      "@import url(\"http://pythonscraping.com/sites/all/modules/views/css/views.css?q4na2g\");\n",
      "@import url(\"http://pythonscraping.com/sites/all/modules/ckeditor/css/ckeditor.css?q4na2g\");\n",
      "</style>\n",
      "<style type=\"text/css\" media=\"all\">\n",
      "@import url(\"http://pythonscraping.com/sites/all/modules/ctools/css/ctools.css?q4na2g\");\n",
      "</style>\n",
      "<style type=\"text/css\" media=\"all\">\n",
      "@import url(\"http://pythonscraping.com/sites/all/themes/skeletontheme/css/skeleton.css?q4na2g\");\n",
      "@import url(\"http://pythonscraping.com/sites/all/themes/skeletontheme/css/style.css?q4na2g\");\n",
      "@import url(\"http://pythonscraping.com/sites/all/themes/skeletontheme/css/buttons.css?q4na2g\");\n",
      "@import url(\"http://pythonscraping.com/sites/all/themes/skeletontheme/css/layout.css?q4na2g\");\n",
      "@import url(\"http://pythonscraping.com/sites/all/themes/skeletontheme/color/colors.css?q4na2g\");\n",
      "</style>\n",
      "  <script type=\"text/javascript\" src=\"http://pythonscraping.com/misc/jquery.js?v=1.4.4\"></script>\n",
      "<script type=\"text/javascript\" src=\"http://pythonscraping.com/misc/jquery.once.js?v=1.2\"></script>\n",
      "<script type=\"text/javascript\" src=\"http://pythonscraping.com/misc/drupal.js?q4na2g\"></script>\n",
      "<script type=\"text/javascript\" src=\"http://pythonscraping.com/sites/all/themes/skeletontheme/js/jquery.mobilemenu.js?q4na2g\"></script>\n",
      "<script type=\"text/javascript\">\n",
      "<!--//--><![CDATA[//><!--\n",
      "jQuery(document).ready(function($) { \r\n",
      "\t\r\n",
      "\t$(\"#navigation .content > ul\").mobileMenu({\r\n",
      "\t\tprependTo: \"#navigation\",\r\n",
      "\t\tcombine: false,\r\n",
      "        switchWidth: 760,\r\n",
      "        topOptionText: Drupal.settings.skeletontheme['topoptiontext']\r\n",
      "\t});\r\n",
      "\t\r\n",
      "\t});\n",
      "//--><!]]>\n",
      "</script>\n",
      "<script type=\"text/javascript\" src=\"http://pythonscraping.com/sites/all/modules/google_analytics/googleanalytics.js?q4na2g\"></script>\n",
      "<script type=\"text/javascript\">\n",
      "<!--//--><![CDATA[//><!--\n",
      "(function(i,s,o,g,r,a,m){i[\"GoogleAnalyticsObject\"]=r;i[r]=i[r]||function(){(i[r].q=i[r].q||[]).push(arguments)},i[r].l=1*new Date();a=s.createElement(o),m=s.getElementsByTagName(o)[0];a.async=1;a.src=g;m.parentNode.insertBefore(a,m)})(window,document,\"script\",\"https://www.google-analytics.com/analytics.js\",\"ga\");ga(\"create\", \"UA-57871098-1\", {\"cookieDomain\":\"auto\"});ga(\"set\", \"anonymizeIp\", true);ga(\"set\", \"page\", \"/404.html?page=\" + document.location.pathname + document.location.search + \"&from=\" + document.referrer);ga(\"send\", \"pageview\");\n",
      "//--><!]]>\n",
      "</script>\n",
      "<script type=\"text/javascript\">\n",
      "<!--//--><![CDATA[//><!--\n",
      "jQuery.extend(Drupal.settings, {\"basePath\":\"\\/\",\"pathPrefix\":\"\",\"skeletontheme\":{\"topoptiontext\":\"Select a page\"},\"ajaxPageState\":{\"theme\":\"skeletontheme\",\"theme_token\":\"r5J6HDn1fbaipBt93QEI-FOpFMjNoAxTXb2WYP1hf7Y\",\"js\":{\"misc\\/jquery.js\":1,\"misc\\/jquery.once.js\":1,\"misc\\/drupal.js\":1,\"sites\\/all\\/themes\\/skeletontheme\\/js\\/jquery.mobilemenu.js\":1,\"0\":1,\"sites\\/all\\/modules\\/google_analytics\\/googleanalytics.js\":1,\"1\":1},\"css\":{\"modules\\/system\\/system.base.css\":1,\"modules\\/system\\/system.menus.css\":1,\"modules\\/system\\/system.messages.css\":1,\"modules\\/system\\/system.theme.css\":1,\"modules\\/comment\\/comment.css\":1,\"modules\\/field\\/theme\\/field.css\":1,\"modules\\/node\\/node.css\":1,\"modules\\/search\\/search.css\":1,\"modules\\/user\\/user.css\":1,\"sites\\/all\\/modules\\/views\\/css\\/views.css\":1,\"sites\\/all\\/modules\\/ckeditor\\/css\\/ckeditor.css\":1,\"sites\\/all\\/modules\\/ctools\\/css\\/ctools.css\":1,\"sites\\/all\\/themes\\/skeletontheme\\/css\\/skeleton.css\":1,\"sites\\/all\\/themes\\/skeletontheme\\/css\\/style.css\":1,\"sites\\/all\\/themes\\/skeletontheme\\/css\\/buttons.css\":1,\"sites\\/all\\/themes\\/skeletontheme\\/css\\/layout.css\":1,\"sites\\/all\\/themes\\/skeletontheme\\/color\\/colors.css\":1}},\"googleanalytics\":{\"trackOutbound\":1,\"trackMailto\":1,\"trackDownload\":1,\"trackDownloadExtensions\":\"7z|aac|arc|arj|asf|asx|avi|bin|csv|doc(x|m)?|dot(x|m)?|exe|flv|gif|gz|gzip|hqx|jar|jpe?g|js|mp(2|3|4|e?g)|mov(ie)?|msi|msp|pdf|phps|png|ppt(x|m)?|pot(x|m)?|pps(x|m)?|ppam|sld(x|m)?|thmx|qtm?|ra(m|r)?|sea|sit|tar|tgz|torrent|txt|wav|wma|wmv|wpd|xls(x|m|b)?|xlt(x|m)|xlam|xml|z|zip\"}});\n",
      "//--><!]]>\n",
      "</script>\n",
      "</head>\n",
      "<body class=\"html not-front not-logged-in one-sidebar sidebar-first page-pages page-pages-files page-pages-files-form2 page-pages-files-form2-processingphp\" >\n",
      "  <div id=\"skip-link\">\n",
      "    <a href=\"#main-content\" class=\"element-invisible element-focusable\">Skip to main content</a>\n",
      "  </div>\n",
      "    <div id=\"wrap\">\n",
      "    <div class=\"container\">\n",
      "        \n",
      "                \n",
      "        <div class=\"clear\"></div>\n",
      "        \n",
      "        <!-- #header -->\n",
      "                <div id=\"header\" class=\"sixteen columns clearfix\">   \n",
      "                \n",
      "            <div class=\"inner\">\n",
      "    \n",
      "                                  <a href=\"/\" title=\"Home\" rel=\"home\" id=\"logo\">\n",
      "                    <img src=\"http://pythonscraping.com/sites/default/files/lrg_0.jpg\" alt=\"Home\" />\n",
      "                  </a>\n",
      "                                \n",
      "                                <div id=\"name-and-slogan\">\n",
      "                \n",
      "                                        <div id=\"site-name\">\n",
      "                    <a href=\"/\" title=\"Home\" rel=\"home\">Web Scraping with Python</a>\n",
      "                    </div>\n",
      "                                        \n",
      "                                    \n",
      "                </div>\n",
      "                            </div>\n",
      "        </div><!-- /#header -->\n",
      "        \n",
      "                \n",
      "        <div class=\"clear\"></div>\n",
      "        \n",
      "        <!-- #navigation -->\n",
      "        <div id=\"navigation\" class=\"sixteen columns clearfix\">\n",
      "        \n",
      "            <div class=\"menu-header\">\n",
      "                            \t\t\t\t<div class=\"content\">\n",
      "\t\t\t\t                </div>\n",
      "                        </div>\n",
      "            \n",
      "        </div><!-- /#navigation -->\n",
      "        \n",
      "                <!-- #sidebar-first -->\n",
      "        <div id=\"sidebar-first\" class=\"five columns\">\n",
      "              <div class=\"region region-sidebar-first\">\n",
      "    <div id=\"block-block-1\" class=\"block block-block\">\n",
      "\n",
      "    <h2>Buy WsWP from O&#039;Reilly</h2>\n",
      "  \n",
      "  <div class=\"content\">\n",
      "    <p><a href=\"http://shop.oreilly.com/product/0636920078067.do\" target=\"_blank\"><img src=\"https://covers.oreillystatic.com/images/0636920078067/lrg.jpg\" style=\"max-width:200px;\" /></a></p>\n",
      "  </div>\n",
      "</div>\n",
      "  </div>\n",
      "        </div><!-- /#sidebar-first -->\n",
      "                \n",
      "                <div id=\"content\" class=\"eleven columns\">\n",
      "\t\t        \n",
      "                    \n",
      "                        \n",
      "            <div id=\"main\">\n",
      "            \n",
      "                                \n",
      "                                \n",
      "                                <h1 class=\"title\" id=\"page-title\">\n",
      "                  Page not found                </h1>\n",
      "                                \n",
      "                                \n",
      "                                <div class=\"tabs\">\n",
      "                                  </div>\n",
      "                                \n",
      "                                \n",
      "                                \n",
      "                  <div class=\"region region-content\">\n",
      "    <div id=\"block-system-main\" class=\"block block-system\">\n",
      "\n",
      "    \n",
      "  <div class=\"content\">\n",
      "    The requested page \"/pages/files/form2/processing.php\" could not be found.  </div>\n",
      "</div>\n",
      "  </div>\n",
      "                                \n",
      "            </div>\n",
      "        \n",
      "        </div><!-- /#content -->\n",
      "        \n",
      "                \n",
      "        <div class=\"clear\"></div>\n",
      "        \n",
      "                \n",
      "\t</div>\n",
      "        \n",
      "\t<div id=\"footer\" >\n",
      "        <div class=\"container\">\n",
      "        \t<div class=\"sixteen columns clearfix\">\n",
      "        \n",
      "                <div class=\"one_third\">\n",
      "                                </div>\n",
      "                \n",
      "                <div class=\"one_third\">\n",
      "                                </div>\n",
      "                \n",
      "                <div class=\"one_third last\">\n",
      "                                </div>\n",
      "        \n",
      "                <div class=\"clear\"></div>\n",
      "                \n",
      "                                \n",
      "                <div class=\"clear\"></div>\n",
      "                \n",
      "                <div id=\"credits\">\n",
      "                2020                                 Web Scraping with Python<br/>\n",
      "                                &copy; Ryan Mitchell, All Rights Reserved. For questions about reproduction or use of any material on this site, please contact ryan.e.mitchell@gmail.com\n",
      "                </div>\n",
      "        \t</div>\n",
      "        </div>\n",
      "    </div>\n",
      "    \n",
      "</div> <!-- /#wrap -->  </body>\n",
      "</html>\n",
      "\n"
     ]
    }
   ],
   "source": [
    "file = {'uploadFile':open('D:/Computer_Vision/lena1.jpg','rb')}\n",
    "r = requests.post(\n",
    "    'http://pythonscraping.com/pages/files/form2/processing.php',files=file)\n",
    "print(r.text)"
   ]
  },
  {
   "cell_type": "code",
   "execution_count": 28,
   "metadata": {},
   "outputs": [
    {
     "name": "stdout",
     "output_type": "stream",
     "text": [
      "{'loggedin': '1', 'username': 'Wrien'}\n",
      "Next\n",
      "Hey Wrien! Looks like you're still logged into the site!\n"
     ]
    }
   ],
   "source": [
    "payload = {'username':'Wrien','password':'password'}\n",
    "r = requests.post('http://pythonscraping.com/pages/cookies/welcome.php',data=payload)\n",
    "print(r.cookies.get_dict())\n",
    "print('Next')\n",
    "r = requests.get('http://pythonscraping.com/pages/cookies/profile.php',cookies=r.cookies)\n",
    "print(r.text)"
   ]
  },
  {
   "cell_type": "code",
   "execution_count": 29,
   "metadata": {},
   "outputs": [
    {
     "name": "stdout",
     "output_type": "stream",
     "text": [
      "{'loggedin': '1', 'username': 'Wrien'}\n",
      "Hey Wrien! Looks like you're still logged into the site!\n"
     ]
    }
   ],
   "source": [
    "session = requests.Session()\n",
    "payload = {'username':'Wrien','password':'password'}\n",
    "r = session.post('http://pythonscraping.com/pages/cookies/welcome.php',data=payload)\n",
    "print(r.cookies.get_dict())\n",
    "r = session.get('http://pythonscraping.com/pages/cookies/profile.php',cookies=r.cookies)\n",
    "print(r.text)"
   ]
  },
  {
   "cell_type": "markdown",
   "metadata": {},
   "source": [
    "## Download the files"
   ]
  },
  {
   "cell_type": "code",
   "execution_count": 33,
   "metadata": {},
   "outputs": [],
   "source": [
    "import os\n",
    "os.makedirs('D:/Computer_Vision/',exist_ok=True)\n",
    "\n",
    "IMAGE_URL = 'https://mofanpy.com/static/img/description/learning_step_flowchart.png'"
   ]
  },
  {
   "cell_type": "code",
   "execution_count": 35,
   "metadata": {},
   "outputs": [
    {
     "data": {
      "text/plain": [
       "('D:/Computer_Vision/image1.png', <http.client.HTTPMessage at 0x1acc7ae1b70>)"
      ]
     },
     "execution_count": 35,
     "metadata": {},
     "output_type": "execute_result"
    }
   ],
   "source": [
    "from urllib.request import urlretrieve\n",
    "urlretrieve(IMAGE_URL,'D:/Computer_Vision/image1.png' )"
   ]
  },
  {
   "cell_type": "code",
   "execution_count": 37,
   "metadata": {},
   "outputs": [],
   "source": [
    "import requests\n",
    "r = requests.get(IMAGE_URL)\n",
    "with open('D:/Computer_Vision/image2.png','wb') as f:\n",
    "    f.write(r.content)"
   ]
  }
 ],
 "metadata": {
  "kernelspec": {
   "display_name": "Python 3",
   "language": "python",
   "name": "python3"
  },
  "language_info": {
   "codemirror_mode": {
    "name": "ipython",
    "version": 3
   },
   "file_extension": ".py",
   "mimetype": "text/x-python",
   "name": "python",
   "nbconvert_exporter": "python",
   "pygments_lexer": "ipython3",
   "version": "3.7.0"
  }
 },
 "nbformat": 4,
 "nbformat_minor": 2
}

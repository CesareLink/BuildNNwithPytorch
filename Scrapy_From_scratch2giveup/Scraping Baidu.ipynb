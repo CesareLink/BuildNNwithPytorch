{
 "cells": [
  {
   "cell_type": "code",
   "execution_count": 8,
   "metadata": {},
   "outputs": [],
   "source": [
    "from bs4 import BeautifulSoup\n",
    "from urllib.request import urlopen\n",
    "import re\n",
    "import random\n",
    "\n",
    "base_url = 'https://baike.baidu.com'\n",
    "his =['/item/%E7%BD%91%E7%BB%9C%E7%88%AC%E8%99%AB/5162711']"
   ]
  },
  {
   "cell_type": "code",
   "execution_count": 10,
   "metadata": {},
   "outputs": [
    {
     "name": "stdout",
     "output_type": "stream",
     "text": [
      "网络爬虫 url: /item/%E7%BD%91%E7%BB%9C%E7%88%AC%E8%99%AB/5162711\n"
     ]
    }
   ],
   "source": [
    "url = base_url + his[-1]\n",
    "html = urlopen(url).read().decode('utf-8')\n",
    "soup = BeautifulSoup(html, features='lxml')\n",
    "print(soup.find('h1').get_text(), 'url:', his[-1])"
   ]
  },
  {
   "cell_type": "code",
   "execution_count": 13,
   "metadata": {},
   "outputs": [
    {
     "name": "stdout",
     "output_type": "stream",
     "text": [
      "['/item/%E7%BD%91%E7%BB%9C%E7%88%AC%E8%99%AB/5162711', '/item/%E6%96%87%E6%9C%AC%E5%88%86%E6%9E%90', 'https://baike.baidu.com/item/%E7%99%BE%E5%BA%A6%E7%99%BE%E7%A7%91%EF%BC%9A%E5%88%9B%E5%BB%BA%E7%89%88%E6%9C%AC', '/item/%E8%AF%AD%E4%B9%89%E5%8C%96']\n"
     ]
    }
   ],
   "source": [
    "# find valid urls-在一个网站中寻找其中给出的相关链接\n",
    "sub_urls = soup.find_all(\"a\", {\"target\": \"_blank\", \"href\": re.compile(\"/item/(%.{2})+$\")})\n",
    "\n",
    "if len(sub_urls) != 0:\n",
    "    his.append(random.sample(sub_urls, 1)[0]['href'])\n",
    "else:\n",
    "    # no valid sub link found\n",
    "    his.pop()\n",
    "print(his)"
   ]
  },
  {
   "cell_type": "code",
   "execution_count": 16,
   "metadata": {},
   "outputs": [
    {
     "name": "stdout",
     "output_type": "stream",
     "text": [
      "0 网络爬虫     url:  /item/%E7%BD%91%E7%BB%9C%E7%88%AC%E8%99%AB/5162711\n",
      "1 主机     url:  /item/%E4%B8%BB%E6%9C%BA\n",
      "2 镜像服务器     url:  /item/%E9%95%9C%E5%83%8F%E6%9C%8D%E5%8A%A1%E5%99%A8\n",
      "3 光盘镜像服务器     url:  /item/%E5%85%89%E7%9B%98%E9%95%9C%E5%83%8F%E6%9C%8D%E5%8A%A1%E5%99%A8\n",
      "4 驱动器     url:  /item/%E9%A9%B1%E5%8A%A8%E5%99%A8\n",
      "5 软盘驱动器     url:  /item/%E8%BD%AF%E7%9B%98%E9%A9%B1%E5%8A%A8%E5%99%A8\n",
      "6 软盘     url:  /item/%E8%BD%AF%E7%9B%98\n",
      "7 外观     url:  /item/%E5%A4%96%E8%A7%82\n",
      "8 鲁迅     url:  /item/%E9%B2%81%E8%BF%85\n",
      "9 中国小说史略     url:  /item/%E4%B8%AD%E5%9B%BD%E5%B0%8F%E8%AF%B4%E5%8F%B2%E7%95%A5\n",
      "10 古小说钩沉     url:  /item/%E5%8F%A4%E5%B0%8F%E8%AF%B4%E9%92%A9%E6%B2%89\n",
      "11 汉武故事     url:  /item/%E6%B1%89%E6%AD%A6%E6%95%85%E4%BA%8B\n",
      "12 葛洪     url:  /item/%E8%91%9B%E6%B4%AA\n",
      "13 昆山     url:  /item/%E6%98%86%E5%B1%B1\n",
      "14 924年     url:  /item/%E5%90%8C%E5%85%89%E4%BA%8C%E5%B9%B4\n",
      "15 宿卫兵     url:  /item/%E5%AE%BF%E5%8D%AB%E5%85%B5\n",
      "16 军户     url:  /item/%E5%86%9B%E6%88%B7\n",
      "17 奥鲁     url:  /item/%E5%A5%A5%E9%B2%81\n",
      "18 统治者     url:  /item/%E7%BB%9F%E6%B2%BB%E8%80%85\n",
      "19 姬囏     url:  /item/%E5%91%A8%E6%87%BF%E7%8E%8B\n"
     ]
    }
   ],
   "source": [
    "his = [\"/item/%E7%BD%91%E7%BB%9C%E7%88%AC%E8%99%AB/5162711\"]\n",
    "\n",
    "for i in range(20):\n",
    "    url = base_url + his[-1]\n",
    "\n",
    "    html = urlopen(url).read().decode('utf-8')\n",
    "    soup = BeautifulSoup(html, features='lxml')\n",
    "    print(i, soup.find('h1').get_text(), '    url: ', his[-1])\n",
    "\n",
    "    # find valid urls\n",
    "    sub_urls = soup.find_all(\"a\", {\"target\": \"_blank\", \"href\": re.compile(\"/item/(%.{2})+$\")})\n",
    "\n",
    "    if len(sub_urls) != 0:\n",
    "        his.append(random.sample(sub_urls, 1)[0]['href'])\n",
    "    else:\n",
    "        # no valid sub link found\n",
    "        his.pop()"
   ]
  }
 ],
 "metadata": {
  "kernelspec": {
   "display_name": "Python 3",
   "language": "python",
   "name": "python3"
  },
  "language_info": {
   "codemirror_mode": {
    "name": "ipython",
    "version": 3
   },
   "file_extension": ".py",
   "mimetype": "text/x-python",
   "name": "python",
   "nbconvert_exporter": "python",
   "pygments_lexer": "ipython3",
   "version": "3.7.0"
  }
 },
 "nbformat": 4,
 "nbformat_minor": 2
}

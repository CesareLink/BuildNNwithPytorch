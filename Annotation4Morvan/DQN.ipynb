{
 "cells": [
  {
   "cell_type": "markdown",
   "metadata": {},
   "source": [
    "# Deep Q-Learning"
   ]
  },
  {
   "cell_type": "markdown",
   "metadata": {},
   "source": [
    "## import module"
   ]
  },
  {
   "cell_type": "code",
   "execution_count": 5,
   "metadata": {},
   "outputs": [],
   "source": [
    "import torch\n",
    "import torch.nn as nn\n",
    "import torch.nn.functional as F\n",
    "import numpy as np\n",
    "import gym"
   ]
  },
  {
   "cell_type": "markdown",
   "metadata": {},
   "source": [
    "## set parameters"
   ]
  },
  {
   "cell_type": "code",
   "execution_count": 13,
   "metadata": {},
   "outputs": [],
   "source": [
    "batch_size = 32\n",
    "lr =0.01\n",
    "EPSILON = 0.9  #用于控制探索和根据经验运动的比例\n",
    "GAMMA = 0.9  \n",
    "TARGET_REPLACE_ITER =100   #用于控制多久更新一次target网络\n",
    "MEMORY_CAPACITY = 2000  #记忆池的大小\n",
    "env = gym.make('CartPole-v0')  #立木杆游戏\n",
    "env = env.unwrapped\n",
    "N_ACTIONS = env.action_space.n\n",
    "N_STATES = env.observation_space.shape[0]\n",
    "ENV_A_SHAPE = 0 if isinstance(env.action_space.sample(), int) else env.action_space.sample().shape     # to confirm the shape\n",
    "# isinstance 用于确定env.action是否是int类型-即是否是可使用的动作， 如果是则ENV_A_SHAPE返回0， 否则则返回动作空间的shape"
   ]
  },
  {
   "cell_type": "markdown",
   "metadata": {},
   "source": [
    "## Build NN Model"
   ]
  },
  {
   "cell_type": "code",
   "execution_count": 14,
   "metadata": {},
   "outputs": [],
   "source": [
    "class Net(nn.Module):\n",
    "    def __init__(self, ):\n",
    "        #注意，这里的输入是状态的维度，输出是动作空间的维度\n",
    "        super(Net, self).__init__()\n",
    "        self.fc1 = nn.Linear(N_STATES, 50)\n",
    "        self.fc1.weight.data.normal_(0, 0.1)   # initialization 设置一个随机初始状态\n",
    "        self.out = nn.Linear(50, N_ACTIONS)\n",
    "        self.out.weight.data.normal_(0, 0.1)   # initialization\n",
    "\n",
    "    def forward(self, x):\n",
    "        x = self.fc1(x)\n",
    "        x = F.relu(x)\n",
    "        actions_value = self.out(x)\n",
    "        return actions_value"
   ]
  },
  {
   "cell_type": "markdown",
   "metadata": {},
   "source": [
    "## Build DQN"
   ]
  },
  {
   "cell_type": "markdown",
   "metadata": {},
   "source": [
    "### Main part: choose action, store transition, learn from data"
   ]
  },
  {
   "cell_type": "code",
   "execution_count": 24,
   "metadata": {},
   "outputs": [],
   "source": [
    "class DQN(object):\n",
    "    #init 这部分注意进行超参数的初始化和设置内置NN的一些超参数\n",
    "    def __init__(self):#实例化两个网络用于评估\n",
    "        \n",
    "        self.eval_net, self.target_net = Net(), Net()\n",
    "        \n",
    "        #设置一个变量用于更新target网络\n",
    "        self.learn_step_counter = 0                                     # for target updating\n",
    "\n",
    "        #设置两个变量用于存储memory及其计数器\n",
    "        self.memory_counter = 0                                         # for storing memory\n",
    "        self.memory = np.zeros((MEMORY_CAPACITY, N_STATES * 2 + 2))     # initialize memory\n",
    "        \n",
    "        #此处的N_STATES*2+2是因为：memory的每一行会存：1个state，一个action， 一个reward，和一个next state\n",
    "        #共计这么多个数据，放置在同一维中\n",
    "        \n",
    "        #设置内置的NN的超参数：优化器和损失函数\n",
    "        self.optimizer = torch.optim.Adam(self.eval_net.parameters(), lr=lr)\n",
    "        self.loss_func = nn.MSELoss()\n",
    "\n",
    "        \n",
    "    def choose_action(self, x):\n",
    "        #选择动作的函数\n",
    "        x = torch.unsqueeze(torch.FloatTensor(x), 0)\n",
    "        # input only one sample\n",
    "        if np.random.uniform() < EPSILON:   # greedy #随机生成一个数，看看是不是小于Epsilon，这样就能概率性地进入搜索和读取\n",
    "            actions_value = self.eval_net.forward(x) #使用eval网络进行动作价值的评估\n",
    "            action = torch.max(actions_value, 1)[1].data.numpy() #选择动作中价值最大的那一个 ，1代表取动作的index而不是值，.data用于仅取值，放弃其他属性，.numppy用于转换成数组\n",
    "            #接下来，如果ENV_A_SHAPE==0，说明action是可以使用的动作，则action取值为action[0]\n",
    "            action = action[0] if ENV_A_SHAPE == 0 else action.reshape(ENV_A_SHAPE)  # return the argmax index\n",
    "        else:   # random  #随机探索空间，提升经验\n",
    "            #动作由（0，N_ACTIONS）范围内随机生成一个整数来确定\n",
    "            action = np.random.randint(0, N_ACTIONS)\n",
    "            #如果这个action是可用的，则返回action，否则将action重shape成范围内的数\n",
    "            action = action if ENV_A_SHAPE == 0 else action.reshape(ENV_A_SHAPE)\n",
    "        return action  #返回动作\n",
    "\n",
    "    \n",
    "    def store_transition(self, s, a, r, s_): \n",
    "        #存储记忆，从此前的一些经历获得记忆\n",
    "        transition = np.hstack((s, [a, r], s_)) #transition由状态s，动作a，奖励r和s_组成\n",
    "        # replace the old memory with new memory\n",
    "        index = self.memory_counter % MEMORY_CAPACITY #设置该传入记忆transition的index\n",
    "        self.memory[index, :] = transition #将index放入memory \n",
    "        #此处的transition是一个一维的列表[0:N_STATES,1,1,0:N_STATES]的数据\n",
    "        self.memory_counter += 1 #增加memory计数\n",
    "\n",
    "        \n",
    "    def learn(self):\n",
    "        #使用learn进行target NN网络的更新和memory等内容的输入/输出\n",
    "        \n",
    "        # target parameter update\n",
    "        #如果学校补偿除以target网络更新步数为0，即为整数倍66 \n",
    "        if self.learn_step_counter % TARGET_REPLACE_ITER == 0:\n",
    "            #目标网络使用eval网络进行更新-此处：load_state_dict是使用括号内的state_dict()来更新权重\n",
    "            #state_dict()是读取网络的权重\n",
    "            self.target_net.load_state_dict(self.eval_net.state_dict())\n",
    "        \n",
    "        #学习过程进入一次，增加一次学习计数\n",
    "        self.learn_step_counter += 1\n",
    "\n",
    "        # sample batch transitions\n",
    "        sample_index = np.random.choice(MEMORY_CAPACITY, batch_size) #从memory中随机选取batch_size个index\n",
    "        b_memory = self.memory[sample_index, :] #从memory中的对应index获得些数据\n",
    "        #b_memory [state,action, reward, state_next]的一个一维数据\n",
    "        b_s = torch.FloatTensor(b_memory[:, :N_STATES]) #取一维数据的前N_STATES，为状态\n",
    "        b_a = torch.LongTensor(b_memory[:, N_STATES:N_STATES+1].astype(int)) #接下来一个为动作的代表值\n",
    "        b_r = torch.FloatTensor(b_memory[:, N_STATES+1:N_STATES+2])#然后是奖励 \n",
    "        b_s_ = torch.FloatTensor(b_memory[:, -N_STATES:]) #最后是下一个状态\n",
    "        #以上四个最终给出的都是一个batch_index✖本身数据长度的tensor\n",
    "\n",
    "        # q_eval w.r.t the action in experience\n",
    "        q_eval = self.eval_net(b_s).gather(1, b_a)  # shape (batch, 1) \n",
    "        #从eval_net中输入当前状态获得网络输出的动作值的列表，有多少个动作就有多少个值的列表\n",
    "        #使用gather将eval_net的输出沿着dim=1的轴，根据b_a也就是batch_index×1动作列表来进行整合\n",
    "        #最终输出的q_eval是一个（batch，1）的量，内容是得出的eval网络的对应动作在batch上的估计值\n",
    "        q_next = self.target_net(b_s_).detach()     # detach from graph, don't backpropagate\n",
    "        #而使用target网络来获取一个b_s_对应的下一个状态的各个动作的评价值，由于当前循环不更新target_net，所以说采用.detach放弃方向传播\n",
    "        #q_next的shape是batch✖actionnumber\n",
    "        \n",
    "        q_target = b_r + GAMMA * q_next.max(1)[0].view(batch_size, 1)   # shape (batch, 1)\n",
    "        #设计目标函数为： reward加上学习率✖[batch✖最大价值动作] 整个batch内的都获得了新的q_target\n",
    "        \n",
    "        #常规4件套\n",
    "        loss = self.loss_func(q_eval, q_target) \n",
    "        self.optimizer.zero_grad()\n",
    "        loss.backward()\n",
    "        self.optimizer.step()"
   ]
  },
  {
   "cell_type": "markdown",
   "metadata": {},
   "source": [
    "## Instance"
   ]
  },
  {
   "cell_type": "code",
   "execution_count": null,
   "metadata": {},
   "outputs": [
    {
     "name": "stdout",
     "output_type": "stream",
     "text": [
      "Collecting Experience\n",
      "Ep:  202 | Ep_r:  2.52\n",
      "Ep:  203 | Ep_r:  0.96\n",
      "Ep:  204 | Ep_r:  3.13\n",
      "Ep:  205 | Ep_r:  1.57\n",
      "Ep:  206 | Ep_r:  2.9\n",
      "Ep:  207 | Ep_r:  3.83\n",
      "Ep:  208 | Ep_r:  3.22\n",
      "Ep:  209 | Ep_r:  2.87\n",
      "Ep:  210 | Ep_r:  1.38\n",
      "Ep:  211 | Ep_r:  1.81\n",
      "Ep:  212 | Ep_r:  2.74\n",
      "Ep:  213 | Ep_r:  3.27\n",
      "Ep:  214 | Ep_r:  -0.45\n",
      "Ep:  215 | Ep_r:  2.97\n",
      "Ep:  216 | Ep_r:  19.11\n",
      "Ep:  217 | Ep_r:  2.8\n",
      "Ep:  218 | Ep_r:  0.06\n",
      "Ep:  219 | Ep_r:  25.75\n",
      "Ep:  220 | Ep_r:  3.7\n",
      "Ep:  221 | Ep_r:  82.28\n",
      "Ep:  222 | Ep_r:  52.02\n",
      "Ep:  223 | Ep_r:  31.81\n",
      "Ep:  224 | Ep_r:  4.13\n",
      "Ep:  225 | Ep_r:  10.22\n",
      "Ep:  226 | Ep_r:  12.2\n",
      "Ep:  227 | Ep_r:  10.26\n",
      "Ep:  228 | Ep_r:  30.58\n",
      "Ep:  229 | Ep_r:  40.92\n",
      "Ep:  230 | Ep_r:  32.58\n",
      "Ep:  231 | Ep_r:  76.95\n",
      "Ep:  232 | Ep_r:  107.03\n",
      "Ep:  233 | Ep_r:  38.13\n",
      "Ep:  234 | Ep_r:  109.76\n",
      "Ep:  235 | Ep_r:  591.97\n",
      "Ep:  236 | Ep_r:  172.99\n",
      "Ep:  237 | Ep_r:  203.75\n",
      "Ep:  238 | Ep_r:  414.54\n",
      "Ep:  239 | Ep_r:  332.68\n",
      "Ep:  240 | Ep_r:  460.71\n"
     ]
    }
   ],
   "source": [
    "dqn = DQN() #实例化DQN网络\n",
    "print('Collecting Experience')\n",
    "#获取经验以训练网络\n",
    "for i_episode in range(400): #训练400次的i_episode以获取经验\n",
    "    s = env.reset() #将竖条设置为初始状态，env.reset()函数用于重置环境，该函数将使得环境的initial observation重置\n",
    "    ep_r = 0 #设置reward\n",
    "    while True:\n",
    "        env.render() #env.render()函数用于渲染出当前的智能体以及环境的状态\n",
    "        a = dqn.choose_action(s) #选择一个动作来改变当前状态\n",
    "\n",
    "        # take action\n",
    "        s_, r, done, info = env.step(a) #采取动作，获得下一个状态s_，奖励r和是否应该reset环境，也就是是否完成任务\n",
    "        #env.step()会返回四个值：observation（object）、reward（float）、done（boolean）、info（dict）\n",
    "\n",
    "        # modify the reward\n",
    "        x, x_dot, theta, theta_dot = s_  #将s_这一状态(object形态)给到几个变量\n",
    "        r1 = (env.x_threshold - abs(x)) / env.x_threshold - 0.8 #\n",
    "        r2 = (env.theta_threshold_radians - abs(theta)) / env.theta_threshold_radians - 0.5\n",
    "        r = r1 + r2\n",
    "\n",
    "        dqn.store_transition(s, a, r, s_)  #将状态，动作，奖励和状态s_保存到memory里面\n",
    "\n",
    "        ep_r += r  #获得总的奖励值\n",
    "        if dqn.memory_counter > MEMORY_CAPACITY: #如果超出存储范围\n",
    "            dqn.learn()  #更新target网络\n",
    "            if done:  \n",
    "                print('Ep: ', i_episode,\n",
    "                      '| Ep_r: ', round(ep_r, 2))  #打印总的迭代数和总奖励值\n",
    "\n",
    "        if done:\n",
    "            break\n",
    "        s = s_  #将下一状态s_赋值到状态s"
   ]
  },
  {
   "cell_type": "code",
   "execution_count": null,
   "metadata": {},
   "outputs": [],
   "source": []
  }
 ],
 "metadata": {
  "kernelspec": {
   "display_name": "Python 3",
   "language": "python",
   "name": "python3"
  },
  "language_info": {
   "codemirror_mode": {
    "name": "ipython",
    "version": 3
   },
   "file_extension": ".py",
   "mimetype": "text/x-python",
   "name": "python",
   "nbconvert_exporter": "python",
   "pygments_lexer": "ipython3",
   "version": "3.7.0"
  }
 },
 "nbformat": 4,
 "nbformat_minor": 2
}

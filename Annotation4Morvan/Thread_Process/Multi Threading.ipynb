{
 "cells": [
  {
   "cell_type": "markdown",
   "metadata": {},
   "source": [
    "# Multi-Threading"
   ]
  },
  {
   "cell_type": "markdown",
   "metadata": {},
   "source": [
    "## How to add more thread"
   ]
  },
  {
   "cell_type": "code",
   "execution_count": 22,
   "metadata": {},
   "outputs": [],
   "source": [
    "import threading\n",
    "import time"
   ]
  },
  {
   "cell_type": "code",
   "execution_count": 16,
   "metadata": {},
   "outputs": [],
   "source": [
    "def thread_job():\n",
    "    print('This is an added thread, number is %s'%threading.current_thread()) #注意不要用%作为字符的结尾，%后面跟字符用于说明%需要输入的内容类型"
   ]
  },
  {
   "cell_type": "code",
   "execution_count": 17,
   "metadata": {},
   "outputs": [
    {
     "name": "stdout",
     "output_type": "stream",
     "text": [
      "This is an added thread, number is <Thread(Thread-9, started 7812)>\n"
     ]
    }
   ],
   "source": [
    "def main():\n",
    "    added_thread = threading.Thread(target=thread_job)\n",
    "    added_thread.start()\n",
    "    #print(threading.active_count())\n",
    "    #print(threading.enumerate())\n",
    "    #print(threading.current_thread())\n",
    "    \n",
    "if __name__ =='__main__':\n",
    "    main()"
   ]
  },
  {
   "cell_type": "markdown",
   "metadata": {},
   "source": [
    "## Join"
   ]
  },
  {
   "cell_type": "code",
   "execution_count": 30,
   "metadata": {},
   "outputs": [],
   "source": [
    "def thread_job1():\n",
    "    print('T1 start\\n')\n",
    "    for i in range(10):\n",
    "        time.sleep(0.1)\n",
    "    print('T1 finish\\n')\n",
    "        \n",
    "def T2_job():\n",
    "    print('T2 start\\n')\n",
    "    print('T2 finish\\n')"
   ]
  },
  {
   "cell_type": "code",
   "execution_count": 39,
   "metadata": {},
   "outputs": [],
   "source": [
    "def main1():\n",
    "    added_thread = threading.Thread(target=thread_job1, name='T1')\n",
    "    thread2 =threading.Thread(target=T2_job,name='T2')\n",
    "    \n",
    "    added_thread.start()\n",
    "    thread2.start()\n",
    "    \n",
    "    \n",
    "    added_thread.join() #如果不加这一条就会出现thread_job还没完成print的时候，main1就执行了all done。\n",
    "    #因为这是两条不同的线程\n",
    "    #一方面这样做会使得thread_job1和main1同时进行操作，互不干涉，但是同时也会导致执行顺序出问题\n",
    "    #所以说使用join（）之后会让分线程完成后再进行当前线程的操作\n",
    "    #主线程等待其他线程\n",
    "    thread2.join()\n",
    "    #同时可以指定等待某个线程结束，例如这里的thread2\n",
    "    print('all done')"
   ]
  },
  {
   "cell_type": "code",
   "execution_count": 40,
   "metadata": {},
   "outputs": [
    {
     "name": "stdout",
     "output_type": "stream",
     "text": [
      "T1 start\n",
      "\n",
      "T2 start\n",
      "\n",
      "T2 finish\n",
      "\n",
      "T1 finish\n",
      "\n",
      "all done\n"
     ]
    }
   ],
   "source": [
    "if __name__=='__main__':\n",
    "    main1()"
   ]
  },
  {
   "cell_type": "markdown",
   "metadata": {},
   "source": [
    "## Queue"
   ]
  },
  {
   "cell_type": "code",
   "execution_count": 46,
   "metadata": {},
   "outputs": [],
   "source": [
    "from queue import Queue\n",
    "\n",
    "def job(l, q):\n",
    "    for i in range(len(l)):\n",
    "        l[i] = l[i]**2\n",
    "    q.put(l)\n",
    "\n",
    "data = [[1,2,3],[4,5,6],[7,8,9],[10,11,12]]\n",
    "\n",
    "def multithreading(data):\n",
    "    q = Queue()\n",
    "    threads = []\n",
    "\n",
    "    for i in range(4):\n",
    "        t = threading.Thread(target=job, args=(data[i],q)) #args配合target是创建thread的目标\n",
    "        t.start()\n",
    "        threads.append(t)\n",
    "\n",
    "    for thread in threads:\n",
    "        thread.join()\n",
    "        \n",
    "    results = []\n",
    "    \n",
    "    for _ in range(4):\n",
    "        results.append(q.get())\n",
    "    \n",
    "    print(results)"
   ]
  },
  {
   "cell_type": "code",
   "execution_count": 48,
   "metadata": {},
   "outputs": [
    {
     "name": "stdout",
     "output_type": "stream",
     "text": [
      "[[1, 16, 81], [256, 625, 1296], [2401, 4096, 6561], [10000, 14641, 20736]]\n"
     ]
    }
   ],
   "source": [
    "if __name__ == '__main__':\n",
    "    multithreading(data)"
   ]
  }
 ],
 "metadata": {
  "kernelspec": {
   "display_name": "Python 3",
   "language": "python",
   "name": "python3"
  },
  "language_info": {
   "codemirror_mode": {
    "name": "ipython",
    "version": 3
   },
   "file_extension": ".py",
   "mimetype": "text/x-python",
   "name": "python",
   "nbconvert_exporter": "python",
   "pygments_lexer": "ipython3",
   "version": "3.7.0"
  }
 },
 "nbformat": 4,
 "nbformat_minor": 2
}

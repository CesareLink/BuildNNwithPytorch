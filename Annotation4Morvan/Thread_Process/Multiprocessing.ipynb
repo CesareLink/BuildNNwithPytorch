{
 "cells": [
  {
   "cell_type": "markdown",
   "metadata": {},
   "source": [
    "# Multi-Processing"
   ]
  },
  {
   "cell_type": "markdown",
   "metadata": {},
   "source": [
    "## Import Module"
   ]
  },
  {
   "cell_type": "code",
   "execution_count": 1,
   "metadata": {},
   "outputs": [],
   "source": [
    "import multiprocessing as mp"
   ]
  },
  {
   "cell_type": "code",
   "execution_count": null,
   "metadata": {},
   "outputs": [],
   "source": [
    "#注意在jupter book中会导致不断进行进程，而无任何输出\n",
    "\n",
    "def jobX(q,A,B):\n",
    "    res = 0\n",
    "    for i in range(A,B):\n",
    "        res += i+i**2\n",
    "    q.put(res)\n",
    "\n",
    "if __name__== '__main__':\n",
    "    q = mp.Queue()\n",
    "\n",
    "    p1 = mp.Process(target=jobX, args=(q,2,10)) #target的函数不能有括号\n",
    "    p2 = mp.Process(target=jobX, args=(q,2,10)) #args如果只传入一个值，要在后面加逗号以表示可以迭代\n",
    "    p1.start()\n",
    "    p2.start()\n",
    "    p1.join()\n",
    "    p2.join()\n",
    "    res1 = q.get()\n",
    "    res2 = q.get()\n",
    "    print(res1+res2)\n"
   ]
  },
  {
   "cell_type": "code",
   "execution_count": 2,
   "metadata": {},
   "outputs": [],
   "source": [
    "import multiprocessing as mp"
   ]
  },
  {
   "cell_type": "code",
   "execution_count": null,
   "metadata": {},
   "outputs": [],
   "source": [
    "def job(x):\n",
    "    return x*x\n",
    "\n",
    "def multicore():\n",
    "    pool = mp.Pool(processes=2)\n",
    "    res = pool.map(job,range(100))\n",
    "    print(res)\n",
    "    res = pool.aplly_async(job,(2,))\n",
    "    print(res.get())\n",
    "    \n",
    "if __name__=='__main__':\n",
    "    multicore()"
   ]
  }
 ],
 "metadata": {
  "kernelspec": {
   "display_name": "Python 3",
   "language": "python",
   "name": "python3"
  },
  "language_info": {
   "codemirror_mode": {
    "name": "ipython",
    "version": 3
   },
   "file_extension": ".py",
   "mimetype": "text/x-python",
   "name": "python",
   "nbconvert_exporter": "python",
   "pygments_lexer": "ipython3",
   "version": "3.7.0"
  }
 },
 "nbformat": 4,
 "nbformat_minor": 2
}

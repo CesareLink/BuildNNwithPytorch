{
 "cells": [
  {
   "cell_type": "markdown",
   "metadata": {},
   "source": [
    "# CNN"
   ]
  },
  {
   "cell_type": "markdown",
   "metadata": {},
   "source": [
    "## Import Module"
   ]
  },
  {
   "cell_type": "code",
   "execution_count": 93,
   "metadata": {},
   "outputs": [],
   "source": [
    "import torch\n",
    "import torch.nn as nn\n",
    "import torch.nn.functional as F\n",
    "import torch.utils.data as Data\n",
    "import torchvision\n",
    "import torchvision.transforms as transforms\n",
    "import matplotlib.pyplot as plt"
   ]
  },
  {
   "cell_type": "markdown",
   "metadata": {},
   "source": [
    "## Set Parameters"
   ]
  },
  {
   "cell_type": "code",
   "execution_count": 94,
   "metadata": {},
   "outputs": [],
   "source": [
    "epoch = 1\n",
    "batch_size = 50  \n",
    "lr = 0.001  #learning rate\n",
    "DOWNLOAD_MNIST = False"
   ]
  },
  {
   "cell_type": "markdown",
   "metadata": {},
   "source": [
    "## Data Acquisition"
   ]
  },
  {
   "cell_type": "code",
   "execution_count": 95,
   "metadata": {},
   "outputs": [
    {
     "name": "stdout",
     "output_type": "stream",
     "text": [
      "torch.Size([60000, 28, 28])\n",
      "torch.Size([60000])\n"
     ]
    },
    {
     "data": {
      "image/png": "[encoded data removed]",
      "text/plain": [
       "<Figure size 432x288 with 1 Axes>"
      ]
     },
     "metadata": {
      "needs_background": "light"
     },
     "output_type": "display_data"
    }
   ],
   "source": [
    "train_data = torchvision.datasets.FashionMNIST(root='C:/Users/Cesare/DeeplearningwirtPytorch/data/FashionMNIST',train=True, \n",
    "                                               transform=transforms.ToTensor(),download=False)\n",
    "#plot the example\n",
    "print(train_data.data.size())\n",
    "print(train_data.targets.size())\n",
    "plt.imshow(train_data.data[0].numpy(),cmap='gray')\n",
    "plt.title('%i'%train_data.targets[0])\n",
    "plt.show()\n",
    "\n",
    "train_loader = Data.DataLoader(dataset=train_data, batch_size=batch_size,shuffle=True)"
   ]
  },
  {
   "cell_type": "markdown",
   "metadata": {},
   "source": [
    "## Test Data"
   ]
  },
  {
   "cell_type": "code",
   "execution_count": 96,
   "metadata": {},
   "outputs": [
    {
     "name": "stdout",
     "output_type": "stream",
     "text": [
      "Dataset FashionMNIST\n",
      "    Number of datapoints: 10000\n",
      "    Root location: C:/Users/Cesare/DeeplearningwirtPytorch/data/\n",
      "    Split: Test\n",
      "    StandardTransform\n",
      "Transform: ToTensor()\n"
     ]
    }
   ],
   "source": [
    "test_data = torchvision.datasets.FashionMNIST(root='C:/Users/Cesare/DeeplearningwirtPytorch/data/',train=False,\n",
    "                                             transform=transforms.ToTensor(),download=False)\n",
    "print(test_data)\n",
    "test_x = torch.unsqueeze(test_data.data,dim=1).type(torch.FloatTensor)[:2000]/255\n",
    "test_y = test_data.targets[:2000]"
   ]
  },
  {
   "cell_type": "markdown",
   "metadata": {},
   "source": [
    "## Build Network Module    "
   ]
  },
  {
   "cell_type": "code",
   "execution_count": 97,
   "metadata": {},
   "outputs": [],
   "source": [
    "class CNN(nn.Module):\n",
    "    def __init__(self):\n",
    "        super(CNN, self).__init__()\n",
    "        self.conv1 = nn.Conv2d(in_channels=1,out_channels=8,kernel_size=3,stride=1,padding=1)\n",
    "        self.conv2 = nn.Conv2d(in_channels=8,out_channels=16,kernel_size=3,stride=1,padding=1)\n",
    "        \n",
    "        self.fc1 = nn.Linear(in_features=16*7*7,out_features=120)\n",
    "        self.fc2 = nn.Linear(in_features=120, out_features=60)\n",
    "        self.out = nn.Linear(in_features=60, out_features=10)\n",
    "        \n",
    "    def forward(self, x):\n",
    "        x = F.relu(self.conv1(x))\n",
    "        x = F.max_pool2d(x, kernel_size=2, stride=2)\n",
    "        \n",
    "        x = F.relu(self.conv2(x))\n",
    "        x = F.max_pool2d(x, kernel_size=2, stride=2)\n",
    "        \n",
    "        x = F.relu(self.fc1(x.reshape(-1,16*7*7))) \n",
    "        #也可以写作：\n",
    "        #x = F.relu(self.fc1(x.view(x.size(0),-1)))\n",
    "        x = F.relu(self.fc2(x))\n",
    "        x = self.out(x)\n",
    "        \n",
    "        return x"
   ]
  },
  {
   "cell_type": "markdown",
   "metadata": {},
   "source": [
    "## Instance"
   ]
  },
  {
   "cell_type": "code",
   "execution_count": 98,
   "metadata": {},
   "outputs": [],
   "source": [
    "cnn = CNN()\n",
    "optimizer = torch.optim.Adam(cnn.parameters(),lr=lr)\n",
    "loss_func = nn.CrossEntropyLoss()"
   ]
  },
  {
   "cell_type": "markdown",
   "metadata": {},
   "source": [
    "## Training process "
   ]
  },
  {
   "cell_type": "code",
   "execution_count": 99,
   "metadata": {},
   "outputs": [
    {
     "name": "stdout",
     "output_type": "stream",
     "text": [
      "Epoch: 0 |train_loss:2.3064 |test accuracy:0.10\n",
      "Epoch: 0 |train_loss:0.8122 |test accuracy:0.57\n",
      "Epoch: 0 |train_loss:0.5694 |test accuracy:0.70\n",
      "Epoch: 0 |train_loss:0.9210 |test accuracy:0.73\n",
      "Epoch: 0 |train_loss:0.6960 |test accuracy:0.75\n",
      "Epoch: 0 |train_loss:0.4293 |test accuracy:0.77\n",
      "Epoch: 0 |train_loss:0.7120 |test accuracy:0.77\n",
      "Epoch: 0 |train_loss:0.6185 |test accuracy:0.77\n",
      "Epoch: 0 |train_loss:0.5807 |test accuracy:0.80\n",
      "Epoch: 0 |train_loss:0.3804 |test accuracy:0.80\n",
      "Epoch: 0 |train_loss:0.3500 |test accuracy:0.82\n",
      "Epoch: 0 |train_loss:0.6475 |test accuracy:0.80\n",
      "Epoch: 0 |train_loss:0.5581 |test accuracy:0.82\n",
      "Epoch: 0 |train_loss:0.5267 |test accuracy:0.82\n",
      "Epoch: 0 |train_loss:0.6295 |test accuracy:0.82\n",
      "Epoch: 0 |train_loss:0.5093 |test accuracy:0.83\n",
      "Epoch: 0 |train_loss:0.5201 |test accuracy:0.82\n",
      "Epoch: 0 |train_loss:0.3316 |test accuracy:0.85\n",
      "Epoch: 0 |train_loss:0.2917 |test accuracy:0.82\n",
      "Epoch: 0 |train_loss:0.3396 |test accuracy:0.84\n",
      "Epoch: 0 |train_loss:0.5265 |test accuracy:0.85\n",
      "Epoch: 0 |train_loss:0.3586 |test accuracy:0.85\n",
      "Epoch: 0 |train_loss:0.5134 |test accuracy:0.85\n",
      "Epoch: 0 |train_loss:0.4005 |test accuracy:0.86\n",
      "[9 2 1 1 6 1 6 6 5 7] pred number\n",
      "[9 2 1 1 6 1 4 6 5 7] real number\n"
     ]
    }
   ],
   "source": [
    "for epoch in range(epoch):\n",
    "    for step, (x,y) in enumerate(train_loader):\n",
    "        output = cnn(x) \n",
    "        loss = loss_func(output, y)\n",
    "        optimizer.zero_grad()\n",
    "        loss.backward()\n",
    "        optimizer.step()\n",
    "        \n",
    "        if step%50 ==0:\n",
    "            test_output = cnn(test_x)\n",
    "            pred_y = torch.max(test_output,1)[1].data.squeeze()\n",
    "            accuracy = float(sum(pred_y ==test_y))/float(test_y.size(0))\n",
    "            print('Epoch:',epoch,'|train_loss:%.4f'%loss.data.numpy(),'|test accuracy:%.2f'%accuracy)\n",
    "\n",
    "#print 10 predictions from test data\n",
    "test_output = cnn(test_x[:10])\n",
    "pred_y = torch.max(test_output,1)[1].data.numpy().squeeze() #torch.max 会返回softmax中的最大值[value,index]用[1]指定为index输出\n",
    "#此处应该也可以写成test_output.argmax(1).data.numpy()  直接给出index\n",
    "print(pred_y,'pred number')\n",
    "print(test_y[:10].numpy(),'real number')"
   ]
  }
 ],
 "metadata": {
  "kernelspec": {
   "display_name": "Python 3",
   "language": "python",
   "name": "python3"
  },
  "language_info": {
   "codemirror_mode": {
    "name": "ipython",
    "version": 3
   },
   "file_extension": ".py",
   "mimetype": "text/x-python",
   "name": "python",
   "nbconvert_exporter": "python",
   "pygments_lexer": "ipython3",
   "version": "3.7.0"
  }
 },
 "nbformat": 4,
 "nbformat_minor": 2
}

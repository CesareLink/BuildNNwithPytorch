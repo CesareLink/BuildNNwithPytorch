{
 "cells": [
  {
   "cell_type": "code",
   "execution_count": 1,
   "metadata": {},
   "outputs": [],
   "source": [
    "import torch\n",
    "import torch.utils.data as Data"
   ]
  },
  {
   "cell_type": "code",
   "execution_count": 2,
   "metadata": {},
   "outputs": [],
   "source": [
    "batch_size = 5\n",
    "\n",
    "x = torch.linspace(1, 10, 10)\n",
    "y = torch.linspace(10, 1, 10)"
   ]
  },
  {
   "cell_type": "code",
   "execution_count": 4,
   "metadata": {},
   "outputs": [
    {
     "name": "stdout",
     "output_type": "stream",
     "text": [
      "Epoch: 0 |Step: 0 |Batchsize_x: [9. 3. 4. 7. 5.] |batchsize_y: [2. 8. 7. 4. 6.]\n",
      "Epoch: 0 |Step: 1 |Batchsize_x: [ 8.  6.  1.  2. 10.] |batchsize_y: [ 3.  5. 10.  9.  1.]\n",
      "Epoch: 1 |Step: 0 |Batchsize_x: [3. 9. 2. 6. 4.] |batchsize_y: [8. 2. 9. 5. 7.]\n",
      "Epoch: 1 |Step: 1 |Batchsize_x: [ 8.  7.  5. 10.  1.] |batchsize_y: [ 3.  4.  6.  1. 10.]\n",
      "Epoch: 2 |Step: 0 |Batchsize_x: [3. 2. 1. 5. 7.] |batchsize_y: [ 8.  9. 10.  6.  4.]\n",
      "Epoch: 2 |Step: 1 |Batchsize_x: [ 4.  9. 10.  8.  6.] |batchsize_y: [7. 2. 1. 3. 5.]\n"
     ]
    }
   ],
   "source": [
    "torch_dataset = Data.TensorDataset(x, y)\n",
    "loader = Data.DataLoader(dataset=torch_dataset, batch_size=batch_size, shuffle=True, )#num_workers=2在windows下出问题\n",
    "\n",
    "for epoch in range(3):\n",
    "    for step, (batch_x, batch_y) in enumerate(loader):\n",
    "        print('Epoch:',epoch,'|Step:',step,'|Batchsize_x:',batch_x.numpy(),'|batchsize_y:',batch_y.numpy())"
   ]
  }
 ],
 "metadata": {
  "kernelspec": {
   "display_name": "Python 3",
   "language": "python",
   "name": "python3"
  },
  "language_info": {
   "codemirror_mode": {
    "name": "ipython",
    "version": 3
   },
   "file_extension": ".py",
   "mimetype": "text/x-python",
   "name": "python",
   "nbconvert_exporter": "python",
   "pygments_lexer": "ipython3",
   "version": "3.7.0"
  }
 },
 "nbformat": 4,
 "nbformat_minor": 2
}
